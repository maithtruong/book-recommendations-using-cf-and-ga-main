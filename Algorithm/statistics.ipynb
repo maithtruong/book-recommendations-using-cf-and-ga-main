{
 "cells": [
  {
   "cell_type": "markdown",
   "metadata": {},
   "source": [
    "Import Data"
   ]
  },
  {
   "cell_type": "code",
   "execution_count": 19,
   "metadata": {},
   "outputs": [],
   "source": [
    "from data_import import import_user_ratings, import_semantic, generate_random_user_ratings_input\n",
    "\n",
    "# File paths for data import\n",
    "user_ratings_file = \"SURVEY/survey_user_ratings.csv\"\n",
    "semantic_file = \"SURVEY/survey_semantic.csv\"\n",
    "\n",
    "# Import data\n",
    "user_ratings = import_user_ratings(user_ratings_file)\n",
    "semantic = import_semantic(semantic_file)"
   ]
  },
  {
   "cell_type": "code",
   "execution_count": 20,
   "metadata": {},
   "outputs": [
    {
     "data": {
      "text/plain": [
       "10"
      ]
     },
     "execution_count": 20,
     "metadata": {},
     "output_type": "execute_result"
    }
   ],
   "source": [
    "no_books = len(user_ratings[1])\n",
    "no_books"
   ]
  },
  {
   "cell_type": "code",
   "execution_count": 21,
   "metadata": {},
   "outputs": [],
   "source": [
    "# Generate user_ratings_input\n",
    "\n",
    "user_ratings_input = generate_random_user_ratings_input(no_books)"
   ]
  },
  {
   "cell_type": "markdown",
   "metadata": {},
   "source": [
    "Dataset Info"
   ]
  },
  {
   "cell_type": "code",
   "execution_count": 22,
   "metadata": {},
   "outputs": [],
   "source": [
    "missing_values = 0\n",
    "no_ratings = 0\n",
    "\n",
    "for user in user_ratings:\n",
    "    for rating in user:\n",
    "        if rating == 0:\n",
    "            missing_values +=1\n",
    "        else:\n",
    "            no_ratings +=1"
   ]
  },
  {
   "cell_type": "code",
   "execution_count": 23,
   "metadata": {},
   "outputs": [
    {
     "data": {
      "text/plain": [
       "282"
      ]
     },
     "execution_count": 23,
     "metadata": {},
     "output_type": "execute_result"
    }
   ],
   "source": [
    "no_ratings"
   ]
  },
  {
   "cell_type": "code",
   "execution_count": 24,
   "metadata": {},
   "outputs": [
    {
     "data": {
      "text/plain": [
       "49"
      ]
     },
     "execution_count": 24,
     "metadata": {},
     "output_type": "execute_result"
    }
   ],
   "source": [
    "no_users = len(user_ratings)\n",
    "no_users"
   ]
  },
  {
   "cell_type": "code",
   "execution_count": 25,
   "metadata": {},
   "outputs": [
    {
     "data": {
      "text/plain": [
       "10"
      ]
     },
     "execution_count": 25,
     "metadata": {},
     "output_type": "execute_result"
    }
   ],
   "source": [
    "no_books = len(user_ratings[0])\n",
    "no_books"
   ]
  },
  {
   "cell_type": "code",
   "execution_count": 26,
   "metadata": {},
   "outputs": [
    {
     "data": {
      "text/plain": [
       "10"
      ]
     },
     "execution_count": 26,
     "metadata": {},
     "output_type": "execute_result"
    }
   ],
   "source": [
    "no_genres = len(semantic)\n",
    "no_genres"
   ]
  },
  {
   "cell_type": "code",
   "execution_count": 28,
   "metadata": {},
   "outputs": [
    {
     "data": {
      "text/plain": [
       "282"
      ]
     },
     "execution_count": 28,
     "metadata": {},
     "output_type": "execute_result"
    }
   ],
   "source": [
    "no_ratings"
   ]
  },
  {
   "cell_type": "code",
   "execution_count": 27,
   "metadata": {},
   "outputs": [
    {
     "data": {
      "text/plain": [
       "208"
      ]
     },
     "execution_count": 27,
     "metadata": {},
     "output_type": "execute_result"
    }
   ],
   "source": [
    "missing_values"
   ]
  },
  {
   "cell_type": "code",
   "execution_count": 31,
   "metadata": {},
   "outputs": [],
   "source": [
    "sparsity = missing_values/(missing_values+no_ratings)*100"
   ]
  },
  {
   "cell_type": "code",
   "execution_count": 32,
   "metadata": {},
   "outputs": [
    {
     "data": {
      "text/plain": [
       "42.44897959183673"
      ]
     },
     "execution_count": 32,
     "metadata": {},
     "output_type": "execute_result"
    }
   ],
   "source": [
    "sparsity"
   ]
  },
  {
   "cell_type": "markdown",
   "metadata": {},
   "source": [
    "Dataset Statistics"
   ]
  },
  {
   "cell_type": "code",
   "execution_count": 29,
   "metadata": {},
   "outputs": [
    {
     "name": "stdout",
     "output_type": "stream",
     "text": [
      "Five-Number Summary Statistics (excluding values equal to 0):\n",
      "Minimum: 1\n",
      "First Quartile (Q1): 3.0\n",
      "Median (Q2): 4.0\n",
      "Third Quartile (Q3): 5.0\n",
      "Maximum: 5\n"
     ]
    }
   ],
   "source": [
    "import numpy as np\n",
    "import seaborn as sns\n",
    "import matplotlib.pyplot as plt\n",
    "\n",
    "# Flatten the list of lists into a 1D array and exclude values equal to 0\n",
    "ratings_array = np.array([rating for user_ratings_list in user_ratings for rating in user_ratings_list if rating != 0])\n",
    "\n",
    "# Calculate the five-number summary statistics\n",
    "minimum = np.min(ratings_array)\n",
    "first_quartile = np.percentile(ratings_array, 25)\n",
    "median = np.percentile(ratings_array, 50)\n",
    "third_quartile = np.percentile(ratings_array, 75)\n",
    "maximum = np.max(ratings_array)\n",
    "\n",
    "# Print the results\n",
    "print(\"Five-Number Summary Statistics (excluding values equal to 0):\")\n",
    "print(\"Minimum:\", minimum)\n",
    "print(\"First Quartile (Q1):\", first_quartile)\n",
    "print(\"Median (Q2):\", median)\n",
    "print(\"Third Quartile (Q3):\", third_quartile)\n",
    "print(\"Maximum:\", maximum)\n"
   ]
  },
  {
   "cell_type": "code",
   "execution_count": 30,
   "metadata": {},
   "outputs": [
    {
     "data": {
      "image/png": "[encoded data removed]",
      "text/plain": [
       "<Figure size 640x480 with 1 Axes>"
      ]
     },
     "metadata": {},
     "output_type": "display_data"
    }
   ],
   "source": [
    "import seaborn as sns\n",
    "import matplotlib.pyplot as plt\n",
    "\n",
    "# Assuming user_ratings is a list of lists containing ratings for each user\n",
    "# Flatten the user_ratings list to a single list\n",
    "ratings_array = [rating for user in user_ratings for rating in user if rating != 0]\n",
    "\n",
    "# Count the frequency of each rating value (1 to 5)\n",
    "rating_counts = {1: 0, 2: 0, 3: 0, 4: 0, 5: 0}\n",
    "for rating in ratings_array:\n",
    "    rating_counts[rating] += 1\n",
    "\n",
    "# Create a bar graph to show the frequency of each rating value\n",
    "plt.bar(rating_counts.keys(), rating_counts.values(), color='skyblue', edgecolor='black')\n",
    "plt.xlabel('Rating')\n",
    "plt.ylabel('Frequency')\n",
    "plt.title('Frequency of Ratings')\n",
    "plt.xticks(range(1, 6))  # Set x-axis ticks to show only 1, 2, 3, 4, and 5\n",
    "plt.show()\n"
   ]
  }
 ],
 "metadata": {
  "kernelspec": {
   "display_name": "Python 3",
   "language": "python",
   "name": "python3"
  },
  "language_info": {
   "codemirror_mode": {
    "name": "ipython",
    "version": 3
   },
   "file_extension": ".py",
   "mimetype": "text/x-python",
   "name": "python",
   "nbconvert_exporter": "python",
   "pygments_lexer": "ipython3",
   "version": "3.11.2"
  },
  "orig_nbformat": 4
 },
 "nbformat": 4,
 "nbformat_minor": 2
}
