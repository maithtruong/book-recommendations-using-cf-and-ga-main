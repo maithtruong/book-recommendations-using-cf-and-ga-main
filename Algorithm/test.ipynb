{
 "cells": [
  {
   "cell_type": "code",
   "execution_count": 1,
   "metadata": {},
   "outputs": [],
   "source": [
    "from data_import import import_user_ratings, import_semantic, generate_random_user_ratings_input\n",
    "from bliga import BookRecommendationSystem\n",
    "from tuner import HyperparameterTuner\n",
    "from evaluation import Evaluator\n",
    "\n",
    "\n",
    "# File paths for data import\n",
    "user_ratings_file = \"user_ratings.csv\"\n",
    "semantic_file = \"semantic.csv\"\n",
    "\n",
    "# Import data\n",
    "user_ratings = import_user_ratings(user_ratings_file)\n",
    "semantic = import_semantic(semantic_file)\n",
    "\n",
    "# Generate user_ratings_input\n",
    "user_ratings_input = generate_random_user_ratings_input(200)"
   ]
  },
  {
   "cell_type": "code",
   "execution_count": 2,
   "metadata": {},
   "outputs": [
    {
     "name": "stdout",
     "output_type": "stream",
     "text": [
      "(20, 0.1, 10, 'one_point', 'inversion', 5)\n",
      "(20, 0.1, 10, 'one_point', 'inversion', 15)\n",
      "(20, 0.1, 10, 'uniform', 'inversion', 5)\n",
      "(20, 0.1, 10, 'uniform', 'inversion', 15)\n",
      "(20, 0.1, 20, 'one_point', 'inversion', 5)\n",
      "(20, 0.1, 20, 'one_point', 'inversion', 15)\n",
      "(20, 0.1, 20, 'uniform', 'inversion', 5)\n",
      "(20, 0.1, 20, 'uniform', 'inversion', 15)\n",
      "(50, 0.1, 10, 'one_point', 'inversion', 5)\n",
      "(50, 0.1, 10, 'one_point', 'inversion', 15)\n",
      "(50, 0.1, 10, 'uniform', 'inversion', 5)\n",
      "(50, 0.1, 10, 'uniform', 'inversion', 15)\n",
      "(50, 0.1, 20, 'one_point', 'inversion', 5)\n",
      "(50, 0.1, 20, 'one_point', 'inversion', 15)\n",
      "(50, 0.1, 20, 'uniform', 'inversion', 5)\n",
      "(50, 0.1, 20, 'uniform', 'inversion', 15)\n",
      "(100, 0.1, 10, 'one_point', 'inversion', 5)\n",
      "(100, 0.1, 10, 'one_point', 'inversion', 15)\n",
      "(100, 0.1, 10, 'uniform', 'inversion', 5)\n",
      "(100, 0.1, 10, 'uniform', 'inversion', 15)\n",
      "(100, 0.1, 20, 'one_point', 'inversion', 5)\n",
      "(100, 0.1, 20, 'one_point', 'inversion', 15)\n",
      "(100, 0.1, 20, 'uniform', 'inversion', 5)\n",
      "(100, 0.1, 20, 'uniform', 'inversion', 15)\n"
     ]
    }
   ],
   "source": [
    "import itertools\n",
    "\n",
    "# Given lists for each parameter\n",
    "pop_size = [20, 50, 100]\n",
    "mutation_rate = [0.1]\n",
    "no_generations = [10,20]\n",
    "crossover = [\"one_point\", \"uniform\"]\n",
    "mutation = [\"inversion\"]\n",
    "no_rec = [5, 15]\n",
    "\n",
    "# Generate all possible combinations\n",
    "combinations_list = list(itertools.product(pop_size, mutation_rate, no_generations, crossover, mutation, no_rec))\n",
    "\n",
    "# Print the generated combinations\n",
    "for combo in combinations_list:\n",
    "    print(combo)"
   ]
  },
  {
   "cell_type": "code",
   "execution_count": 5,
   "metadata": {},
   "outputs": [],
   "source": [
    "pop_size, mutation_rate, num_generations, crossover_func, mutation_func, no_rec = 20, 0.1, 10, 'one_point', 'inversion', 5\n",
    "\n",
    "\n",
    "# Using BookRecommendationSystem\n",
    "recommender = BookRecommendationSystem(user_ratings_input, user_ratings, semantic)\n",
    "\n",
    "# Call the genetic_algorithm method with appropriate arguments\n",
    "best_solution, semratings_dict, fitness_scores_dict, best_solutions_by_generation = recommender.genetic_algorithm(\n",
    "pop_size, mutation_rate, num_generations, crossover_func, mutation_func, no_rec\n",
    ")\n"
   ]
  },
  {
   "cell_type": "code",
   "execution_count": 13,
   "metadata": {},
   "outputs": [
    {
     "data": {
      "text/plain": [
       "{0: [26, 99, 6, 70, 35],\n",
       " 1: [26, 99, 6, 35, 70],\n",
       " 2: [26, 99, 6, 70, 35],\n",
       " 3: [26, 99, 6, 70, 35],\n",
       " 4: [26, 99, 6, 70, 35],\n",
       " 5: [26, 99, 6, 70, 35],\n",
       " 6: [26, 99, 6, 70, 35],\n",
       " 7: [26, 99, 6, 70, 35],\n",
       " 8: [26, 99, 6, 70, 35],\n",
       " 9: [26, 99, 6, 70, 35]}"
      ]
     },
     "execution_count": 13,
     "metadata": {},
     "output_type": "execute_result"
    }
   ],
   "source": [
    "best_solutions_by_generation"
   ]
  },
  {
   "cell_type": "code",
   "execution_count": 6,
   "metadata": {},
   "outputs": [
    {
     "data": {
      "text/plain": [
       "(118, 192, 99, 35, 180)"
      ]
     },
     "execution_count": 6,
     "metadata": {},
     "output_type": "execute_result"
    }
   ],
   "source": [
    "best_solution"
   ]
  },
  {
   "cell_type": "code",
   "execution_count": 8,
   "metadata": {},
   "outputs": [
    {
     "data": {
      "text/plain": [
       "(20, 0.1, 10, 'one_point', 'inversion', 15)"
      ]
     },
     "execution_count": 8,
     "metadata": {},
     "output_type": "execute_result"
    }
   ],
   "source": [
    "combinations_list[1]"
   ]
  },
  {
   "cell_type": "code",
   "execution_count": 3,
   "metadata": {},
   "outputs": [
    {
     "name": "stderr",
     "output_type": "stream",
     "text": [
      "  2%|▏         | 1/48 [00:22<17:35, 22.45s/it]"
     ]
    },
    {
     "name": "stdout",
     "output_type": "stream",
     "text": [
      "Checkpoint 0 saved successfully.\n"
     ]
    },
    {
     "name": "stderr",
     "output_type": "stream",
     "text": [
      " 12%|█▎        | 6/48 [02:03<12:15, 17.50s/it]"
     ]
    },
    {
     "name": "stdout",
     "output_type": "stream",
     "text": [
      "Checkpoint 5 saved successfully.\n"
     ]
    },
    {
     "name": "stderr",
     "output_type": "stream",
     "text": [
      " 23%|██▎       | 11/48 [03:26<11:17, 18.31s/it]"
     ]
    },
    {
     "name": "stdout",
     "output_type": "stream",
     "text": [
      "Checkpoint 10 saved successfully.\n"
     ]
    },
    {
     "name": "stderr",
     "output_type": "stream",
     "text": [
      " 33%|███▎      | 16/48 [06:17<16:54, 31.71s/it]"
     ]
    },
    {
     "name": "stdout",
     "output_type": "stream",
     "text": [
      "Checkpoint 15 saved successfully.\n"
     ]
    },
    {
     "name": "stderr",
     "output_type": "stream",
     "text": [
      " 44%|████▍     | 21/48 [09:05<14:50, 32.97s/it]"
     ]
    },
    {
     "name": "stdout",
     "output_type": "stream",
     "text": [
      "Checkpoint 20 saved successfully.\n"
     ]
    },
    {
     "name": "stderr",
     "output_type": "stream",
     "text": [
      " 54%|█████▍    | 26/48 [13:36<22:32, 61.47s/it]"
     ]
    },
    {
     "name": "stdout",
     "output_type": "stream",
     "text": [
      "Checkpoint 25 saved successfully.\n"
     ]
    },
    {
     "name": "stderr",
     "output_type": "stream",
     "text": [
      " 65%|██████▍   | 31/48 [23:08<34:10, 120.60s/it]"
     ]
    },
    {
     "name": "stdout",
     "output_type": "stream",
     "text": [
      "Checkpoint 30 saved successfully.\n"
     ]
    },
    {
     "name": "stderr",
     "output_type": "stream",
     "text": [
      " 75%|███████▌  | 36/48 [32:00<22:01, 110.13s/it]"
     ]
    },
    {
     "name": "stdout",
     "output_type": "stream",
     "text": [
      "Checkpoint 35 saved successfully.\n"
     ]
    },
    {
     "name": "stderr",
     "output_type": "stream",
     "text": [
      " 85%|████████▌ | 41/48 [37:48<08:14, 70.70s/it] "
     ]
    },
    {
     "name": "stdout",
     "output_type": "stream",
     "text": [
      "Checkpoint 40 saved successfully.\n"
     ]
    },
    {
     "name": "stderr",
     "output_type": "stream",
     "text": [
      " 96%|█████████▌| 46/48 [52:32<06:24, 192.13s/it]"
     ]
    },
    {
     "name": "stdout",
     "output_type": "stream",
     "text": [
      "Checkpoint 45 saved successfully.\n"
     ]
    },
    {
     "name": "stderr",
     "output_type": "stream",
     "text": [
      "100%|██████████| 48/48 [1:03:35<00:00, 79.49s/it] \n"
     ]
    },
    {
     "name": "stdout",
     "output_type": "stream",
     "text": [
      "Results saved successfully.\n"
     ]
    }
   ],
   "source": [
    "import itertools\n",
    "import pandas as pd\n",
    "import os\n",
    "from datetime import datetime\n",
    "from tqdm import tqdm  # Import the tqdm function\n",
    "\n",
    "# Given lists for each parameter\n",
    "pop_size = [20, 50, 100]\n",
    "mutation_rate = [0.1]\n",
    "no_generations = [5, 15]\n",
    "crossover = [\"one_point\", \"uniform\"]\n",
    "mutation = [\"inversion\", \"swap\"]\n",
    "no_rec = [5, 15]\n",
    "\n",
    "# Generate all possible combinations\n",
    "combinations_list = list(itertools.product(pop_size, mutation_rate, no_generations, crossover, mutation, no_rec))\n",
    "\n",
    "# Define your genetic algorithm function here (genetic_algorithm_function)\n",
    "current_dir = os.getcwd()\n",
    "\n",
    "filename = 'results.xlsx'\n",
    "filename = os.path.join(current_dir, filename)\n",
    "\n",
    "results_list = []  # Initialize the results_list before the loop\n",
    "checkpoint_interval = 5  # Set the checkpoint interval in iterations\n",
    "\n",
    "try:\n",
    "    # Use tqdm to create a progress bar\n",
    "    for i, (pop_size, mutation_rate, num_generations, crossover_func, mutation_func, no_rec) in enumerate(tqdm(combinations_list)):\n",
    "        try:\n",
    "            start_time = datetime.now()\n",
    "\n",
    "            # Using BookRecommendationSystem\n",
    "            recommender = BookRecommendationSystem(user_ratings_input, user_ratings, semantic)\n",
    "\n",
    "            # Call the genetic_algorithm method with appropriate arguments\n",
    "            best_solution, semratings_dict, fitness_scores_dict, best_solutions_by_generation = recommender.genetic_algorithm(\n",
    "                pop_size, mutation_rate, num_generations, crossover_func, mutation_func, no_rec\n",
    "            )\n",
    "\n",
    "            end_time = datetime.now()\n",
    "\n",
    "            elapsed_time = end_time - start_time\n",
    "\n",
    "            elapsed_time = elapsed_time.total_seconds()\n",
    "\n",
    "            best_solutions_by_generations_fitness = []\n",
    "\n",
    "            for generation, solution in best_solutions_by_generation.items():\n",
    "                solution = tuple(solution)\n",
    "                if solution in fitness_scores_dict:\n",
    "                    fitness_info = fitness_scores_dict[solution]['total_predicted_rating']\n",
    "                    best_solutions_by_generations_fitness.append(fitness_info)\n",
    "\n",
    "            best_solution_fitness = fitness_scores_dict[best_solution]['total_predicted_rating']\n",
    "\n",
    "            # Append the results to the list\n",
    "            results_list.append((pop_size, mutation_rate, num_generations, crossover_func, mutation_func, no_rec, best_solution, best_solution_fitness, best_solutions_by_generations_fitness, best_solutions_by_generation, elapsed_time))\n",
    "\n",
    "            # Periodically save the results to a file\n",
    "            if i % checkpoint_interval == 0:\n",
    "                results_df = pd.DataFrame(results_list, columns=['Population Size', 'Mutation Rate', 'Number of Generations', 'Crossover Function', 'Mutation Function', 'No. of Recommendations', 'Best Solution', 'Best Solution Fitness', 'Best Solutions By Generations Fitness', 'Best Solution By Generation', 'Elapsed Time'])\n",
    "                # Save the DataFrame to the unique filename with a checkpoint number\n",
    "                checkpoint_filename = f\"checkpoint_{i}.xlsx\"\n",
    "                checkpoint_filename = os.path.join(current_dir, checkpoint_filename)\n",
    "                results_df.to_excel(checkpoint_filename, index=False)\n",
    "                print(f\"Checkpoint {i} saved successfully.\")\n",
    "\n",
    "        except Exception as e:\n",
    "            # Handle specific exceptions that occur during execution\n",
    "            print(f\"Error occurred for combination: {combo}. Error message: {str(e)}\")\n",
    "\n",
    "finally:\n",
    "    # Save the final results to a file\n",
    "    results_df = pd.DataFrame(results_list, columns=['Population Size', 'Mutation Rate', 'Number of Generations', 'Crossover Function', 'Mutation Function', 'No. of Recommendations', 'Best Solution', 'Best Solution Fitness', 'Best Solutions By Generations Fitness', 'Best Solution By Generation','Elapsed Time'])\n",
    "    results_df.to_excel(filename, index=False)\n",
    "    print(\"Results saved successfully.\")"
   ]
  }
 ],
 "metadata": {
  "kernelspec": {
   "display_name": "Python 3",
   "language": "python",
   "name": "python3"
  },
  "language_info": {
   "codemirror_mode": {
    "name": "ipython",
    "version": 3
   },
   "file_extension": ".py",
   "mimetype": "text/x-python",
   "name": "python",
   "nbconvert_exporter": "python",
   "pygments_lexer": "ipython3",
   "version": "3.11.2"
  },
  "orig_nbformat": 4
 },
 "nbformat": 4,
 "nbformat_minor": 2
}
